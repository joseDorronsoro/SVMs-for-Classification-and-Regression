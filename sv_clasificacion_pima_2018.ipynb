{
 "cells": [
  {
   "cell_type": "markdown",
   "metadata": {},
   "source": [
    "# Support Vector Classification \n",
    "\n",
    "## The Pima Indian diabetes\n",
    "\n",
    "We want to predict whether a vector of text features corresponds to a patient having diabetes\n",
    "\n",
    "### Attribute Information:\n",
    "\n",
    "Patterns have 8 numeric features plus a 0-1 class label.\n",
    "\n",
    "1. Number of times pregnant \n",
    "2. Plasma glucose concentration a 2 hours in an oral glucose tolerance test \n",
    "3. Diastolic blood pressure (mm Hg) \n",
    "4. Triceps skin fold thickness (mm) \n",
    "5. 2-Hour serum insulin (mu U/ml) \n",
    "6. Body mass index (weight in kg/(height in m)^2) \n",
    "7. Diabetes pedigree function \n",
    "8. Age (years) \n",
    "9. Class variable (0 or 1) \n",
    "\n",
    "\n",
    "More details and actual data available in https://archive.ics.uci.edu/ml/datasets/Pima+Indians+Diabetes"
   ]
  },
  {
   "cell_type": "code",
   "execution_count": 1,
   "metadata": {},
   "outputs": [],
   "source": [
    "%matplotlib inline\n",
    "%load_ext autoreload\n",
    "%autoreload 2"
   ]
  },
  {
   "cell_type": "code",
   "execution_count": 2,
   "metadata": {},
   "outputs": [],
   "source": [
    "import time\n",
    "import pickle\n",
    "\n",
    "import numpy as np\n",
    "import matplotlib.pyplot as plt\n",
    "import pandas as pd\n",
    "import seaborn as sns\n",
    "\n",
    "np.set_printoptions(precision=3)"
   ]
  },
  {
   "cell_type": "markdown",
   "metadata": {},
   "source": [
    "## Loading Data"
   ]
  },
  {
   "cell_type": "code",
   "execution_count": 3,
   "metadata": {},
   "outputs": [
    {
     "name": "stdout",
     "output_type": "stream",
     "text": [
      "num_rows: 768\tnum_columns: 9\n",
      "\n",
      "Column names:\n",
      " ['numPregnant', 'glucose', 'bloodPress', 'skinThick', 'insulin', 'massIndex', 'pedigree', 'age', 'label']\n"
     ]
    }
   ],
   "source": [
    "f_name = 'D:\\googledrive\\cursos\\datasets\\pima.csv'\n",
    "df_pima = pd.read_csv(f_name, sep=';')\n",
    "\n",
    "print( \"num_rows: %d\\tnum_columns: %d\\n\" % (df_pima.shape[0], df_pima.shape[1]) )\n",
    "print( \"Column names:\\n\", list(df_pima.columns) )\n",
    "\n",
    "vars_pima   = list(df_pima.columns[ : -1])\n",
    "target_pima = df_pima.columns[-1]"
   ]
  },
  {
   "cell_type": "markdown",
   "metadata": {},
   "source": [
    "## Data Exploration, Visualization and Correlations\n",
    "\n",
    "Descriptive statistics, boxplots and histograms"
   ]
  },
  {
   "cell_type": "code",
   "execution_count": 4,
   "metadata": {},
   "outputs": [
    {
     "data": {
      "text/html": [
       "<div>\n",
       "<style scoped>\n",
       "    .dataframe tbody tr th:only-of-type {\n",
       "        vertical-align: middle;\n",
       "    }\n",
       "\n",
       "    .dataframe tbody tr th {\n",
       "        vertical-align: top;\n",
       "    }\n",
       "\n",
       "    .dataframe thead th {\n",
       "        text-align: right;\n",
       "    }\n",
       "</style>\n",
       "<table border=\"1\" class=\"dataframe\">\n",
       "  <thead>\n",
       "    <tr style=\"text-align: right;\">\n",
       "      <th></th>\n",
       "      <th>numPregnant</th>\n",
       "      <th>glucose</th>\n",
       "      <th>bloodPress</th>\n",
       "      <th>skinThick</th>\n",
       "      <th>insulin</th>\n",
       "      <th>massIndex</th>\n",
       "      <th>pedigree</th>\n",
       "      <th>age</th>\n",
       "      <th>label</th>\n",
       "    </tr>\n",
       "  </thead>\n",
       "  <tbody>\n",
       "    <tr>\n",
       "      <th>count</th>\n",
       "      <td>768.000000</td>\n",
       "      <td>768.000000</td>\n",
       "      <td>768.000000</td>\n",
       "      <td>768.000000</td>\n",
       "      <td>768.000000</td>\n",
       "      <td>768.000000</td>\n",
       "      <td>768.000000</td>\n",
       "      <td>768.000000</td>\n",
       "      <td>768.000000</td>\n",
       "    </tr>\n",
       "    <tr>\n",
       "      <th>mean</th>\n",
       "      <td>3.845052</td>\n",
       "      <td>120.894531</td>\n",
       "      <td>69.105469</td>\n",
       "      <td>20.536458</td>\n",
       "      <td>79.799479</td>\n",
       "      <td>31.992578</td>\n",
       "      <td>0.471876</td>\n",
       "      <td>33.240885</td>\n",
       "      <td>0.348958</td>\n",
       "    </tr>\n",
       "    <tr>\n",
       "      <th>std</th>\n",
       "      <td>3.369578</td>\n",
       "      <td>31.972618</td>\n",
       "      <td>19.355807</td>\n",
       "      <td>15.952218</td>\n",
       "      <td>115.244002</td>\n",
       "      <td>7.884160</td>\n",
       "      <td>0.331329</td>\n",
       "      <td>11.760232</td>\n",
       "      <td>0.476951</td>\n",
       "    </tr>\n",
       "    <tr>\n",
       "      <th>min</th>\n",
       "      <td>0.000000</td>\n",
       "      <td>0.000000</td>\n",
       "      <td>0.000000</td>\n",
       "      <td>0.000000</td>\n",
       "      <td>0.000000</td>\n",
       "      <td>0.000000</td>\n",
       "      <td>0.078000</td>\n",
       "      <td>21.000000</td>\n",
       "      <td>0.000000</td>\n",
       "    </tr>\n",
       "    <tr>\n",
       "      <th>25%</th>\n",
       "      <td>1.000000</td>\n",
       "      <td>99.000000</td>\n",
       "      <td>62.000000</td>\n",
       "      <td>0.000000</td>\n",
       "      <td>0.000000</td>\n",
       "      <td>27.300000</td>\n",
       "      <td>0.243750</td>\n",
       "      <td>24.000000</td>\n",
       "      <td>0.000000</td>\n",
       "    </tr>\n",
       "    <tr>\n",
       "      <th>50%</th>\n",
       "      <td>3.000000</td>\n",
       "      <td>117.000000</td>\n",
       "      <td>72.000000</td>\n",
       "      <td>23.000000</td>\n",
       "      <td>30.500000</td>\n",
       "      <td>32.000000</td>\n",
       "      <td>0.372500</td>\n",
       "      <td>29.000000</td>\n",
       "      <td>0.000000</td>\n",
       "    </tr>\n",
       "    <tr>\n",
       "      <th>75%</th>\n",
       "      <td>6.000000</td>\n",
       "      <td>140.250000</td>\n",
       "      <td>80.000000</td>\n",
       "      <td>32.000000</td>\n",
       "      <td>127.250000</td>\n",
       "      <td>36.600000</td>\n",
       "      <td>0.626250</td>\n",
       "      <td>41.000000</td>\n",
       "      <td>1.000000</td>\n",
       "    </tr>\n",
       "    <tr>\n",
       "      <th>max</th>\n",
       "      <td>17.000000</td>\n",
       "      <td>199.000000</td>\n",
       "      <td>122.000000</td>\n",
       "      <td>99.000000</td>\n",
       "      <td>846.000000</td>\n",
       "      <td>67.100000</td>\n",
       "      <td>2.420000</td>\n",
       "      <td>81.000000</td>\n",
       "      <td>1.000000</td>\n",
       "    </tr>\n",
       "  </tbody>\n",
       "</table>\n",
       "</div>"
      ],
      "text/plain": [
       "       numPregnant     glucose  bloodPress   skinThick     insulin  \\\n",
       "count   768.000000  768.000000  768.000000  768.000000  768.000000   \n",
       "mean      3.845052  120.894531   69.105469   20.536458   79.799479   \n",
       "std       3.369578   31.972618   19.355807   15.952218  115.244002   \n",
       "min       0.000000    0.000000    0.000000    0.000000    0.000000   \n",
       "25%       1.000000   99.000000   62.000000    0.000000    0.000000   \n",
       "50%       3.000000  117.000000   72.000000   23.000000   30.500000   \n",
       "75%       6.000000  140.250000   80.000000   32.000000  127.250000   \n",
       "max      17.000000  199.000000  122.000000   99.000000  846.000000   \n",
       "\n",
       "        massIndex    pedigree         age       label  \n",
       "count  768.000000  768.000000  768.000000  768.000000  \n",
       "mean    31.992578    0.471876   33.240885    0.348958  \n",
       "std      7.884160    0.331329   11.760232    0.476951  \n",
       "min      0.000000    0.078000   21.000000    0.000000  \n",
       "25%     27.300000    0.243750   24.000000    0.000000  \n",
       "50%     32.000000    0.372500   29.000000    0.000000  \n",
       "75%     36.600000    0.626250   41.000000    1.000000  \n",
       "max     67.100000    2.420000   81.000000    1.000000  "
      ]
     },
     "execution_count": 4,
     "metadata": {},
     "output_type": "execute_result"
    }
   ],
   "source": [
    "########## basic feature stats\n",
    "\n",
    "df_pima.describe()"
   ]
  },
  {
   "cell_type": "markdown",
   "metadata": {},
   "source": [
    "Removing patients with 0 blood pressure."
   ]
  },
  {
   "cell_type": "code",
   "execution_count": 5,
   "metadata": {},
   "outputs": [
    {
     "name": "stdout",
     "output_type": "stream",
     "text": [
      "733\n",
      "728\n",
      "724\n"
     ]
    }
   ],
   "source": [
    "idx_blood_press_ok = df_pima['bloodPress'].values > 0.\n",
    "#idx_insulin_ok = df_pima['insulin'].values > 0.\n",
    "idx_glucose_ok = df_pima['glucose'].values > 0.\n",
    "idx_massIndex_ok = df_pima['massIndex'].values > 0.\n",
    "\n",
    "#idx_ok_all = np.logical_and(idx_blood_press_ok, idx_insulin_ok)\n",
    "idx_ok_all = idx_blood_press_ok\n",
    "print(idx_ok_all.sum())\n",
    "\n",
    "for idx in [idx_glucose_ok, idx_massIndex_ok]:\n",
    "    idx_ok_all = np.logical_and(idx_ok_all, idx)\n",
    "    print(idx_ok_all.sum())"
   ]
  },
  {
   "cell_type": "code",
   "execution_count": 6,
   "metadata": {},
   "outputs": [
    {
     "data": {
      "text/html": [
       "<div>\n",
       "<style scoped>\n",
       "    .dataframe tbody tr th:only-of-type {\n",
       "        vertical-align: middle;\n",
       "    }\n",
       "\n",
       "    .dataframe tbody tr th {\n",
       "        vertical-align: top;\n",
       "    }\n",
       "\n",
       "    .dataframe thead th {\n",
       "        text-align: right;\n",
       "    }\n",
       "</style>\n",
       "<table border=\"1\" class=\"dataframe\">\n",
       "  <thead>\n",
       "    <tr style=\"text-align: right;\">\n",
       "      <th></th>\n",
       "      <th>numPregnant</th>\n",
       "      <th>glucose</th>\n",
       "      <th>bloodPress</th>\n",
       "      <th>skinThick</th>\n",
       "      <th>insulin</th>\n",
       "      <th>massIndex</th>\n",
       "      <th>pedigree</th>\n",
       "      <th>age</th>\n",
       "      <th>label</th>\n",
       "    </tr>\n",
       "  </thead>\n",
       "  <tbody>\n",
       "    <tr>\n",
       "      <th>count</th>\n",
       "      <td>724.000000</td>\n",
       "      <td>724.000000</td>\n",
       "      <td>724.000000</td>\n",
       "      <td>724.000000</td>\n",
       "      <td>724.000000</td>\n",
       "      <td>724.000000</td>\n",
       "      <td>724.000000</td>\n",
       "      <td>724.000000</td>\n",
       "      <td>724.000000</td>\n",
       "    </tr>\n",
       "    <tr>\n",
       "      <th>mean</th>\n",
       "      <td>3.866022</td>\n",
       "      <td>121.882597</td>\n",
       "      <td>72.400552</td>\n",
       "      <td>21.443370</td>\n",
       "      <td>84.494475</td>\n",
       "      <td>32.467127</td>\n",
       "      <td>0.474765</td>\n",
       "      <td>33.350829</td>\n",
       "      <td>0.343923</td>\n",
       "    </tr>\n",
       "    <tr>\n",
       "      <th>std</th>\n",
       "      <td>3.362803</td>\n",
       "      <td>30.750030</td>\n",
       "      <td>12.379870</td>\n",
       "      <td>15.732756</td>\n",
       "      <td>117.016513</td>\n",
       "      <td>6.888941</td>\n",
       "      <td>0.332315</td>\n",
       "      <td>11.765393</td>\n",
       "      <td>0.475344</td>\n",
       "    </tr>\n",
       "    <tr>\n",
       "      <th>min</th>\n",
       "      <td>0.000000</td>\n",
       "      <td>44.000000</td>\n",
       "      <td>24.000000</td>\n",
       "      <td>0.000000</td>\n",
       "      <td>0.000000</td>\n",
       "      <td>18.200000</td>\n",
       "      <td>0.078000</td>\n",
       "      <td>21.000000</td>\n",
       "      <td>0.000000</td>\n",
       "    </tr>\n",
       "    <tr>\n",
       "      <th>25%</th>\n",
       "      <td>1.000000</td>\n",
       "      <td>99.750000</td>\n",
       "      <td>64.000000</td>\n",
       "      <td>0.000000</td>\n",
       "      <td>0.000000</td>\n",
       "      <td>27.500000</td>\n",
       "      <td>0.245000</td>\n",
       "      <td>24.000000</td>\n",
       "      <td>0.000000</td>\n",
       "    </tr>\n",
       "    <tr>\n",
       "      <th>50%</th>\n",
       "      <td>3.000000</td>\n",
       "      <td>117.000000</td>\n",
       "      <td>72.000000</td>\n",
       "      <td>24.000000</td>\n",
       "      <td>48.000000</td>\n",
       "      <td>32.400000</td>\n",
       "      <td>0.379000</td>\n",
       "      <td>29.000000</td>\n",
       "      <td>0.000000</td>\n",
       "    </tr>\n",
       "    <tr>\n",
       "      <th>75%</th>\n",
       "      <td>6.000000</td>\n",
       "      <td>142.000000</td>\n",
       "      <td>80.000000</td>\n",
       "      <td>33.000000</td>\n",
       "      <td>130.500000</td>\n",
       "      <td>36.600000</td>\n",
       "      <td>0.627500</td>\n",
       "      <td>41.000000</td>\n",
       "      <td>1.000000</td>\n",
       "    </tr>\n",
       "    <tr>\n",
       "      <th>max</th>\n",
       "      <td>17.000000</td>\n",
       "      <td>199.000000</td>\n",
       "      <td>122.000000</td>\n",
       "      <td>99.000000</td>\n",
       "      <td>846.000000</td>\n",
       "      <td>67.100000</td>\n",
       "      <td>2.420000</td>\n",
       "      <td>81.000000</td>\n",
       "      <td>1.000000</td>\n",
       "    </tr>\n",
       "  </tbody>\n",
       "</table>\n",
       "</div>"
      ],
      "text/plain": [
       "       numPregnant     glucose  bloodPress   skinThick     insulin  \\\n",
       "count   724.000000  724.000000  724.000000  724.000000  724.000000   \n",
       "mean      3.866022  121.882597   72.400552   21.443370   84.494475   \n",
       "std       3.362803   30.750030   12.379870   15.732756  117.016513   \n",
       "min       0.000000   44.000000   24.000000    0.000000    0.000000   \n",
       "25%       1.000000   99.750000   64.000000    0.000000    0.000000   \n",
       "50%       3.000000  117.000000   72.000000   24.000000   48.000000   \n",
       "75%       6.000000  142.000000   80.000000   33.000000  130.500000   \n",
       "max      17.000000  199.000000  122.000000   99.000000  846.000000   \n",
       "\n",
       "        massIndex    pedigree         age       label  \n",
       "count  724.000000  724.000000  724.000000  724.000000  \n",
       "mean    32.467127    0.474765   33.350829    0.343923  \n",
       "std      6.888941    0.332315   11.765393    0.475344  \n",
       "min     18.200000    0.078000   21.000000    0.000000  \n",
       "25%     27.500000    0.245000   24.000000    0.000000  \n",
       "50%     32.400000    0.379000   29.000000    0.000000  \n",
       "75%     36.600000    0.627500   41.000000    1.000000  \n",
       "max     67.100000    2.420000   81.000000    1.000000  "
      ]
     },
     "execution_count": 6,
     "metadata": {},
     "output_type": "execute_result"
    }
   ],
   "source": [
    "df_pima = df_pima.loc[ idx_ok_all ]\n",
    "df_pima.describe()"
   ]
  },
  {
   "cell_type": "markdown",
   "metadata": {},
   "source": [
    "## SV Classifier\n",
    "\n",
    "Build a first model to be hyperparameterized later."
   ]
  },
  {
   "cell_type": "code",
   "execution_count": 7,
   "metadata": {},
   "outputs": [
    {
     "name": "stdout",
     "output_type": "stream",
     "text": [
      "train_time: 0.06354856491088867\n"
     ]
    }
   ],
   "source": [
    "from sklearn.svm import SVC\n",
    "from sklearn.preprocessing import MinMaxScaler\n",
    "\n",
    "x = df_pima[ vars_pima ].values\n",
    "y = df_pima[ target_pima ].values\n",
    "\n",
    "# scale data\n",
    "mm_sc = MinMaxScaler()\n",
    "x = mm_sc.fit_transform(x)\n",
    "\n",
    "num_patterns, dim = x.shape\n",
    "svc_m = SVC(C=1., gamma=1/dim, kernel='rbf', shrinking=False, tol=1.e-6)\n",
    "\n",
    "t_0 = time.time()\n",
    "svc_m.fit(x, y)\n",
    "print(\"train_time:\", time.time() - t_0)"
   ]
  },
  {
   "cell_type": "markdown",
   "metadata": {},
   "source": [
    "Explore model properties"
   ]
  },
  {
   "cell_type": "code",
   "execution_count": 8,
   "metadata": {},
   "outputs": [
    {
     "name": "stdout",
     "output_type": "stream",
     "text": [
      "num_svs_per_class: [223 224]\n",
      "indices_of_svs:    [  8  10  15  17  18  25  26  27  31  33  37  38  41  43  50  53  54  58\n",
      "  62  64  66  68  77  78  83  84  86  87  93  97  99 113 115 118 125 127\n",
      " 130 131 132 133 136 138 139 141 144 151 152 153 157 158 159 168 171 173\n",
      " 180 188 189 192 199 200 205 210 215 216 220 231 233 234 235 237 238 243\n",
      " 245 247 249 251 252 258 259 262 265 266 269 270 273 278 279 281 283 287\n",
      " 288 294 296 301 303 308 310 312 313 315 317 321 323 324 325 326 329 335\n",
      " 338 339 341 342 350 355 365 368 371 377 381 386 387 388 389 396 403 407\n",
      " 409 410 412 415 428 431 432 436 440 441 442 443 444 446 448 449 450 452\n",
      " 456 457 459 464 468 471 475 477 485 487 489 491 497 498 503 512 513 514\n",
      " 517 520 522 523 533 539 540 541 543 547 548 555 558 567 570 575 578 581\n",
      " 583 588 589 602 605 611 612 617 618 620 628 629 630 633 634 644 647 649\n",
      " 651 656 657 658 663 666 667 669 673 677 679 680 681 682 683 684 692 700\n",
      " 701 703 707 712 719 720 721   0   2   4   6   7   9  11  12  13  14  16\n",
      "  20  21  22  23  28  34  35  36  45  56  59  61  65  67  76  80  85  91\n",
      "  92 101 102 103 106 107 108 112 116 117 120 121 122 123 124 135 143 146\n",
      " 155 156 161 162 165 167 169 176 177 178 181 183 185 186 187 195 197 201\n",
      " 202 203 204 206 207 208 209 214 217 218 222 224 225 229 230 241 242 250\n",
      " 254 260 264 267 268 271 275 276 277 280 282 284 286 289 291 292 295 297\n",
      " 300 302 304 305 306 309 311 318 319 320 333 334 337 340 343 346 351 354\n",
      " 362 363 364 367 370 373 375 376 378 380 382 385 390 391 393 395 400 401\n",
      " 402 404 413 416 417 421 424 430 447 451 455 463 467 474 478 483 484 490\n",
      " 504 505 506 507 525 526 534 542 545 549 551 553 554 556 559 562 566 568\n",
      " 573 574 576 580 591 596 599 603 606 607 608 615 619 622 623 624 626 627\n",
      " 635 636 638 641 643 648 650 652 654 655 659 660 664 665 668 672 675 678\n",
      " 686 687 688 695 696 699 702 704 705 706 709 710 711 713 722]\n",
      "svs:               [[0.235 0.426 0.694 ... 0.397 0.048 0.15 ]\n",
      " [0.588 0.613 0.571 ... 0.182 0.582 0.6  ]\n",
      " [0.059 0.381 0.061 ... 0.513 0.045 0.2  ]\n",
      " ...\n",
      " [0.059 0.542 0.653 ... 0.374 0.418 0.267]\n",
      " [0.    0.51  0.49  ... 0.37  0.077 0.517]\n",
      " [0.059 0.529 0.367 ... 0.243 0.116 0.433]]\n",
      "dual_coefs:        [[-1.    -1.    -1.    -1.    -1.    -1.    -1.    -1.    -1.    -1.\n",
      "  -1.    -1.    -1.    -1.    -1.    -1.    -1.    -1.    -1.    -1.\n",
      "  -1.    -1.    -1.    -1.    -1.    -1.    -1.    -1.    -1.    -1.\n",
      "  -1.    -1.    -1.    -1.    -1.    -1.    -1.    -1.    -1.    -1.\n",
      "  -1.    -1.    -1.    -1.    -1.    -1.    -1.    -1.    -1.    -1.\n",
      "  -1.    -1.    -1.    -1.    -1.    -0.996 -1.    -1.    -1.    -1.\n",
      "  -1.    -1.    -1.    -1.    -1.    -1.    -1.    -1.    -1.    -1.\n",
      "  -1.    -1.    -1.    -1.    -1.    -1.    -1.    -1.    -1.    -1.\n",
      "  -1.    -1.    -1.    -1.    -1.    -1.    -1.    -1.    -1.    -1.\n",
      "  -1.    -1.    -0.869 -1.    -1.    -1.    -1.    -1.    -1.    -1.\n",
      "  -1.    -1.    -1.    -1.    -1.    -1.    -1.    -1.    -1.    -1.\n",
      "  -1.    -1.    -1.    -1.    -1.    -1.    -1.    -1.    -1.    -1.\n",
      "  -1.    -1.    -1.    -1.    -1.    -1.    -1.    -1.    -1.    -1.\n",
      "  -1.    -1.    -1.    -1.    -1.    -1.    -1.    -1.    -1.    -1.\n",
      "  -1.    -1.    -1.    -1.    -1.    -1.    -1.    -1.    -1.    -1.\n",
      "  -1.    -1.    -1.    -1.    -1.    -1.    -1.    -1.    -1.    -1.\n",
      "  -1.    -1.    -1.    -1.    -1.    -1.    -1.    -1.    -1.    -1.\n",
      "  -1.    -1.    -1.    -1.    -1.    -1.    -1.    -1.    -1.    -1.\n",
      "  -1.    -1.    -1.    -1.    -1.    -1.    -1.    -1.    -1.    -1.\n",
      "  -1.    -1.    -1.    -1.    -1.    -1.    -1.    -1.    -1.    -1.\n",
      "  -1.    -1.    -1.    -1.    -1.    -1.    -1.    -1.    -1.    -1.\n",
      "  -1.    -1.    -1.    -1.    -1.    -1.    -1.    -1.    -1.    -1.\n",
      "  -1.    -1.    -1.     1.     1.     1.     1.     1.     1.     1.\n",
      "   1.     1.     1.     1.     1.     1.     1.     1.     1.     1.\n",
      "   1.     1.     1.     1.     1.     1.     1.     1.     1.     1.\n",
      "   1.     1.     1.     1.     1.     1.     1.     1.     1.     1.\n",
      "   1.     1.     1.     1.     1.     1.     1.     1.     1.     1.\n",
      "   1.     1.     1.     1.     1.     1.     1.     1.     1.     1.\n",
      "   1.     1.     1.     1.     1.     1.     1.     1.     1.     1.\n",
      "   1.     1.     1.     1.     1.     1.     1.     1.     1.     1.\n",
      "   1.     1.     1.     1.     1.     1.     1.     1.     1.     1.\n",
      "   1.     1.     1.     1.     1.     1.     1.     1.     1.     1.\n",
      "   1.     1.     1.     1.     1.     1.     1.     1.     1.     1.\n",
      "   1.     1.     1.     1.     1.     1.     1.     1.     1.     1.\n",
      "   1.     1.     1.     1.     1.     1.     1.     1.     1.     1.\n",
      "   1.     1.     1.     1.     1.     1.     1.     1.     1.     1.\n",
      "   1.     1.     1.     1.     1.     1.     1.     1.     1.     1.\n",
      "   1.     1.     1.     1.     1.     1.     1.     1.     1.     1.\n",
      "   1.     1.     1.     1.     1.     1.     1.     1.     1.     1.\n",
      "   1.     1.     1.     1.     1.     1.     1.     0.004  1.     1.\n",
      "   1.     1.     1.     1.     1.     1.     1.     1.     1.     1.\n",
      "   1.     1.     1.     1.     1.     1.     1.     1.     1.     1.\n",
      "   0.861  1.     1.     1.     1.     1.     1.     1.     1.     1.\n",
      "   1.     1.     1.     1.     1.     1.     1.     1.     1.     1.\n",
      "   1.     1.     1.     1.     1.     1.     1.   ]]\n",
      "intercep:          [-0.092]\n"
     ]
    }
   ],
   "source": [
    "print(\"num_svs_per_class:\", svc_m.n_support_)\n",
    "print(\"indices_of_svs:   \", svc_m.support_)\n",
    "print(\"svs:              \", svc_m.support_vectors_)\n",
    "\n",
    "print(\"dual_coefs:       \", svc_m.dual_coef_)\n",
    "print(\"intercep:         \", svc_m.intercept_)"
   ]
  },
  {
   "cell_type": "markdown",
   "metadata": {},
   "source": [
    "## Hyperparametrization of C and $\\gamma$"
   ]
  },
  {
   "cell_type": "code",
   "execution_count": 9,
   "metadata": {},
   "outputs": [
    {
     "name": "stdout",
     "output_type": "stream",
     "text": [
      "num_hyperparams 120\n",
      "grid_search_time: 301.3099732398987\n"
     ]
    }
   ],
   "source": [
    "from sklearn.model_selection import StratifiedKFold\n",
    "from sklearn.model_selection import GridSearchCV\n",
    "\n",
    "l_C     = [10.**k for k in range(-5,5)] \n",
    "l_gamma = list( np.array([2.**k for k in range(-6,6)]) / dim)\n",
    "\n",
    "parameters = {'C': l_C, 'gamma': l_gamma}\n",
    "print(\"num_hyperparams\", len(l_C) * len(l_gamma))\n",
    "\n",
    "n_folds = 10\n",
    "\n",
    "svc_m = SVC(kernel='rbf', shrinking=False, tol=1.e-6)\n",
    "\n",
    "C_gamma_search = GridSearchCV(svc_m, param_grid=parameters, \n",
    "                              cv=StratifiedKFold(n_folds, shuffle=True), \n",
    "                              scoring='accuracy', n_jobs=2,\n",
    "                              return_train_score=True)\n",
    "\n",
    "t_0 = time.time()\n",
    "C_gamma_search.fit(x, y)\n",
    "print(\"grid_search_time:\", time.time() - t_0)"
   ]
  },
  {
   "cell_type": "code",
   "execution_count": 10,
   "metadata": {},
   "outputs": [],
   "source": [
    "f_pkl = open(\"c_gamma_cv_search.plk\", 'wb') \n",
    "pickle.dump(C_gamma_search, f_pkl)\n",
    "f_pkl.close()"
   ]
  },
  {
   "cell_type": "markdown",
   "metadata": {},
   "source": [
    "### Analyze hyperpars"
   ]
  },
  {
   "cell_type": "code",
   "execution_count": 11,
   "metadata": {},
   "outputs": [],
   "source": [
    "f_pkl = open(\"c_gamma_cv_search.plk\", 'rb') \n",
    "C_gamma_search = pickle.load(f_pkl)\n",
    "f_pkl.close()"
   ]
  },
  {
   "cell_type": "code",
   "execution_count": 12,
   "metadata": {},
   "outputs": [
    {
     "name": "stdout",
     "output_type": "stream",
     "text": [
      "best_C: 100.0 \tbest_gamma: 0.001953125\n"
     ]
    },
    {
     "data": {
      "image/png": "[encoded data removed]",
      "text/plain": [
       "<matplotlib.figure.Figure at 0x14f92ca2ef0>"
      ]
     },
     "metadata": {},
     "output_type": "display_data"
    },
    {
     "data": {
      "image/png": "[encoded data removed]",
      "text/plain": [
       "<matplotlib.figure.Figure at 0x14f93208208>"
      ]
     },
     "metadata": {},
     "output_type": "display_data"
    }
   ],
   "source": [
    "print(\"best_C:\", C_gamma_search.best_params_['C'], \"\\tbest_gamma:\", C_gamma_search.best_params_['gamma'])\n",
    "\n",
    "df_C_gamma_search = pd.DataFrame.from_dict(C_gamma_search.cv_results_)\n",
    "\n",
    "plt.xlabel('C')\n",
    "plt.ylabel('cv acc')\n",
    "plt.xscale('log')\n",
    "#plt.ylim(0.786, 0.788)\n",
    "_ = plt.plot( df_C_gamma_search['param_C'], df_C_gamma_search['mean_test_score'], '.')\n",
    "plt.show()\n",
    "\n",
    "plt.xlabel('gamma')\n",
    "plt.ylabel('cv acc')\n",
    "plt.xscale('log')\n",
    "#plt.ylim(0.786, 0.788)\n",
    "_ = plt.plot( df_C_gamma_search['param_gamma'], df_C_gamma_search['mean_test_score'], '.')\n",
    "plt.show()"
   ]
  },
  {
   "cell_type": "markdown",
   "metadata": {},
   "source": [
    "### Examining best hyperpars\n",
    "\n",
    "Sort by best CV test score"
   ]
  },
  {
   "cell_type": "code",
   "execution_count": 13,
   "metadata": {},
   "outputs": [
    {
     "data": {
      "text/html": [
       "<div>\n",
       "<style scoped>\n",
       "    .dataframe tbody tr th:only-of-type {\n",
       "        vertical-align: middle;\n",
       "    }\n",
       "\n",
       "    .dataframe tbody tr th {\n",
       "        vertical-align: top;\n",
       "    }\n",
       "\n",
       "    .dataframe thead th {\n",
       "        text-align: right;\n",
       "    }\n",
       "</style>\n",
       "<table border=\"1\" class=\"dataframe\">\n",
       "  <thead>\n",
       "    <tr style=\"text-align: right;\">\n",
       "      <th></th>\n",
       "      <th>param_C</th>\n",
       "      <th>param_gamma</th>\n",
       "      <th>mean_test_score</th>\n",
       "    </tr>\n",
       "  </thead>\n",
       "  <tbody>\n",
       "    <tr>\n",
       "      <th>84</th>\n",
       "      <td>100</td>\n",
       "      <td>0.00195312</td>\n",
       "      <td>0.776243</td>\n",
       "    </tr>\n",
       "    <tr>\n",
       "      <th>75</th>\n",
       "      <td>10</td>\n",
       "      <td>0.015625</td>\n",
       "      <td>0.774862</td>\n",
       "    </tr>\n",
       "    <tr>\n",
       "      <th>99</th>\n",
       "      <td>1000</td>\n",
       "      <td>0.015625</td>\n",
       "      <td>0.772099</td>\n",
       "    </tr>\n",
       "    <tr>\n",
       "      <th>76</th>\n",
       "      <td>10</td>\n",
       "      <td>0.03125</td>\n",
       "      <td>0.772099</td>\n",
       "    </tr>\n",
       "    <tr>\n",
       "      <th>111</th>\n",
       "      <td>10000</td>\n",
       "      <td>0.015625</td>\n",
       "      <td>0.772099</td>\n",
       "    </tr>\n",
       "    <tr>\n",
       "      <th>110</th>\n",
       "      <td>10000</td>\n",
       "      <td>0.0078125</td>\n",
       "      <td>0.772099</td>\n",
       "    </tr>\n",
       "    <tr>\n",
       "      <th>66</th>\n",
       "      <td>1</td>\n",
       "      <td>0.125</td>\n",
       "      <td>0.770718</td>\n",
       "    </tr>\n",
       "    <tr>\n",
       "      <th>67</th>\n",
       "      <td>1</td>\n",
       "      <td>0.25</td>\n",
       "      <td>0.770718</td>\n",
       "    </tr>\n",
       "    <tr>\n",
       "      <th>86</th>\n",
       "      <td>100</td>\n",
       "      <td>0.0078125</td>\n",
       "      <td>0.770718</td>\n",
       "    </tr>\n",
       "    <tr>\n",
       "      <th>96</th>\n",
       "      <td>1000</td>\n",
       "      <td>0.00195312</td>\n",
       "      <td>0.770718</td>\n",
       "    </tr>\n",
       "  </tbody>\n",
       "</table>\n",
       "</div>"
      ],
      "text/plain": [
       "    param_C param_gamma  mean_test_score\n",
       "84      100  0.00195312         0.776243\n",
       "75       10    0.015625         0.774862\n",
       "99     1000    0.015625         0.772099\n",
       "76       10     0.03125         0.772099\n",
       "111   10000    0.015625         0.772099\n",
       "110   10000   0.0078125         0.772099\n",
       "66        1       0.125         0.770718\n",
       "67        1        0.25         0.770718\n",
       "86      100   0.0078125         0.770718\n",
       "96     1000  0.00195312         0.770718"
      ]
     },
     "execution_count": 13,
     "metadata": {},
     "output_type": "execute_result"
    }
   ],
   "source": [
    "df_C_gamma_search.sort_values(by='mean_test_score', ascending=False)[['param_C', 'param_gamma', 'mean_test_score']][ : 10]"
   ]
  },
  {
   "cell_type": "markdown",
   "metadata": {},
   "source": [
    "### C vs $\\gamma$ plot"
   ]
  },
  {
   "cell_type": "code",
   "execution_count": 14,
   "metadata": {},
   "outputs": [
    {
     "data": {
      "image/png": "[encoded data removed]",
      "text/plain": [
       "<matplotlib.figure.Figure at 0x14f93369898>"
      ]
     },
     "metadata": {},
     "output_type": "display_data"
    }
   ],
   "source": [
    "m_t_s = df_C_gamma_search.sort_values(by=['param_gamma', 'param_C'])['mean_test_score'].values.reshape(len(l_gamma), -1)\n",
    "\n",
    "nticks_C = len(l_C)\n",
    "nticks_gamma = len(l_gamma)\n",
    "\n",
    "plt.figure( figsize=(13, 7) )\n",
    "\n",
    "plt.xlabel('C')\n",
    "plt.ylabel('gamma')\n",
    "\n",
    "plt.xticks(range(nticks_C), l_C, rotation='vertical')\n",
    "plt.yticks(range(nticks_gamma), l_gamma)\n",
    "\n",
    "cMap = plt.cm.get_cmap(\"bwr\",lut=7) \n",
    "\n",
    "#_ = plt.colorbar(plt.imshow(m_t_s, interpolation='nearest', cmap=cMap))\n",
    "_ = plt.colorbar(plt.imshow(m_t_s, interpolation='nearest', vmin=0.6, vmax=0.8, cmap=cMap))\n",
    "\n",
    "plt.show()"
   ]
  },
  {
   "cell_type": "markdown",
   "metadata": {},
   "source": [
    "### Structure of best model"
   ]
  },
  {
   "cell_type": "code",
   "execution_count": 15,
   "metadata": {},
   "outputs": [
    {
     "name": "stdout",
     "output_type": "stream",
     "text": [
      "num_svs_per_class: [214 214]\n",
      "dual_coefs:        [[-100.    -100.    -100.    -100.    -100.    -100.    -100.    -100.\n",
      "  -100.    -100.    -100.    -100.    -100.    -100.    -100.    -100.\n",
      "  -100.    -100.    -100.    -100.    -100.    -100.    -100.    -100.\n",
      "  -100.    -100.    -100.    -100.    -100.    -100.    -100.    -100.\n",
      "  -100.    -100.     -73.212 -100.    -100.    -100.     -82.282 -100.\n",
      "  -100.    -100.    -100.    -100.    -100.    -100.    -100.    -100.\n",
      "  -100.    -100.    -100.    -100.    -100.    -100.    -100.    -100.\n",
      "  -100.    -100.    -100.    -100.    -100.    -100.    -100.    -100.\n",
      "  -100.    -100.    -100.    -100.    -100.    -100.    -100.    -100.\n",
      "  -100.    -100.    -100.    -100.    -100.    -100.    -100.    -100.\n",
      "  -100.    -100.    -100.    -100.    -100.    -100.    -100.    -100.\n",
      "  -100.    -100.     -81.898 -100.    -100.    -100.    -100.    -100.\n",
      "   -76.222 -100.    -100.    -100.    -100.    -100.    -100.    -100.\n",
      "  -100.    -100.    -100.    -100.    -100.    -100.    -100.    -100.\n",
      "  -100.    -100.    -100.    -100.    -100.    -100.    -100.    -100.\n",
      "  -100.    -100.    -100.    -100.    -100.    -100.    -100.    -100.\n",
      "  -100.    -100.    -100.    -100.    -100.    -100.    -100.    -100.\n",
      "  -100.    -100.    -100.    -100.    -100.    -100.    -100.    -100.\n",
      "  -100.    -100.    -100.    -100.    -100.    -100.    -100.    -100.\n",
      "  -100.    -100.    -100.    -100.    -100.    -100.    -100.    -100.\n",
      "  -100.    -100.    -100.    -100.    -100.    -100.    -100.    -100.\n",
      "  -100.    -100.    -100.    -100.    -100.    -100.    -100.    -100.\n",
      "  -100.    -100.    -100.    -100.    -100.    -100.    -100.    -100.\n",
      "  -100.    -100.    -100.    -100.    -100.    -100.    -100.    -100.\n",
      "  -100.    -100.    -100.    -100.    -100.    -100.    -100.    -100.\n",
      "  -100.    -100.    -100.    -100.    -100.    -100.    -100.    -100.\n",
      "  -100.    -100.    -100.    -100.    -100.    -100.     100.     100.\n",
      "   100.     100.     100.     100.     100.     100.     100.     100.\n",
      "   100.     100.     100.     100.     100.     100.     100.     100.\n",
      "   100.     100.     100.     100.     100.     100.     100.     100.\n",
      "   100.     100.     100.     100.     100.     100.     100.     100.\n",
      "   100.      53.028  100.     100.     100.     100.     100.     100.\n",
      "   100.     100.      60.586  100.     100.     100.     100.     100.\n",
      "   100.     100.     100.     100.     100.     100.     100.     100.\n",
      "   100.     100.     100.     100.     100.     100.     100.     100.\n",
      "   100.     100.     100.     100.     100.     100.     100.     100.\n",
      "   100.     100.     100.     100.     100.     100.     100.     100.\n",
      "   100.     100.     100.     100.     100.     100.     100.     100.\n",
      "   100.     100.     100.     100.     100.     100.     100.     100.\n",
      "   100.     100.     100.     100.     100.     100.     100.     100.\n",
      "   100.     100.     100.     100.     100.     100.     100.     100.\n",
      "   100.     100.     100.     100.     100.     100.     100.     100.\n",
      "   100.     100.     100.     100.     100.     100.     100.     100.\n",
      "   100.     100.     100.     100.     100.     100.     100.     100.\n",
      "   100.     100.     100.     100.     100.     100.     100.     100.\n",
      "   100.     100.     100.     100.     100.     100.     100.     100.\n",
      "   100.     100.     100.     100.     100.     100.     100.     100.\n",
      "   100.     100.     100.     100.     100.     100.     100.     100.\n",
      "   100.     100.     100.     100.     100.     100.     100.     100.\n",
      "   100.     100.     100.     100.     100.     100.     100.     100.\n",
      "   100.     100.     100.     100.     100.     100.     100.     100.\n",
      "   100.     100.     100.     100.     100.     100.     100.     100.\n",
      "   100.     100.     100.     100.     100.     100.     100.     100.\n",
      "   100.     100.     100.     100.   ]]\n",
      "intercep:          [-0.202]\n"
     ]
    }
   ],
   "source": [
    "best_C = C_gamma_search.best_params_['C']\n",
    "best_gamma = C_gamma_search.best_params_['gamma']\n",
    "\n",
    "svc_m = SVC(C=best_C, gamma=best_gamma, kernel='rbf', shrinking=False, tol=1.e-6)\n",
    "\n",
    "svc_m.fit(x, y)\n",
    "\n",
    "print(\"num_svs_per_class:\", svc_m.n_support_)\n",
    "print(\"dual_coefs:       \", svc_m.dual_coef_)\n",
    "print(\"intercep:         \", svc_m.intercept_)"
   ]
  },
  {
   "cell_type": "markdown",
   "metadata": {},
   "source": [
    "### Accuracy, recall and precision of best model"
   ]
  },
  {
   "cell_type": "code",
   "execution_count": 16,
   "metadata": {},
   "outputs": [
    {
     "name": "stdout",
     "output_type": "stream",
     "text": [
      "\n",
      "cv mean accuracy: 0.786\n",
      "\n",
      "cv mean recall: 0.547\n",
      "\n",
      "cv mean precision: 0.758\n"
     ]
    }
   ],
   "source": [
    "from sklearn.model_selection import cross_val_score, cross_val_predict, StratifiedShuffleSplit\n",
    "from sklearn.metrics import accuracy_score, recall_score, precision_score, confusion_matrix\n",
    "\n",
    "sssf = StratifiedShuffleSplit(n_splits=10, test_size=0.25)\n",
    "\n",
    "cv_acc_best = cross_val_score(svc_m, x, y, cv=sssf, scoring='accuracy')\n",
    "print(\"\\ncv mean accuracy: %.3f\" % (cv_acc_best.mean()))\n",
    "\n",
    "cv_recall_best = cross_val_score(svc_m, x, y, cv=sssf, scoring='recall')\n",
    "print(\"\\ncv mean recall: %.3f\" % (cv_recall_best.mean()))\n",
    "\n",
    "cv_precision_best = cross_val_score(svc_m, x, y, cv=sssf, scoring='precision')\n",
    "print(\"\\ncv mean precision: %.3f\" % (cv_precision_best.mean()))"
   ]
  },
  {
   "cell_type": "code",
   "execution_count": 17,
   "metadata": {},
   "outputs": [
    {
     "name": "stdout",
     "output_type": "stream",
     "text": [
      "accuracy:  0.773\n",
      "recall:    0.518\n",
      "precision: 0.746\n"
     ]
    }
   ],
   "source": [
    "y_pred = cross_val_predict(svc_m, x, y, cv=StratifiedKFold(n_folds))\n",
    "\n",
    "print(\"accuracy:  %.3f\" % accuracy_score(y, y_pred))\n",
    "print(\"recall:    %.3f\" % recall_score(y, y_pred))\n",
    "print(\"precision: %.3f\" % precision_score(y, y_pred))"
   ]
  },
  {
   "cell_type": "markdown",
   "metadata": {},
   "source": [
    "## Predicting probabilities\n",
    "\n",
    "In classification we should give class probability estimates rather than labels.\n",
    "\n",
    "To do so, we can build the histogram of the posterior probabilities predicted for the positive class and decide on adequate thresholds."
   ]
  },
  {
   "cell_type": "code",
   "execution_count": 18,
   "metadata": {},
   "outputs": [],
   "source": [
    "######### plot prob histograms\n",
    "svc_m = SVC(C=best_C, gamma=best_gamma, kernel='rbf', shrinking=False, tol=1.e-6, probability=True)\n",
    "svc_m.fit(x, y)\n",
    "\n",
    "y_pred = cross_val_predict(svc_m, x, y, cv=StratifiedKFold(n_folds, shuffle=True))\n",
    "\n",
    "p_pred = cross_val_predict(svc_m, x, y, cv=StratifiedKFold(n_folds, shuffle=True),\n",
    "                           method='predict_proba')"
   ]
  },
  {
   "cell_type": "code",
   "execution_count": 19,
   "metadata": {},
   "outputs": [
    {
     "data": {
      "image/png": "[encoded data removed]",
      "text/plain": [
       "<matplotlib.figure.Figure at 0x14f9342a6a0>"
      ]
     },
     "metadata": {},
     "output_type": "display_data"
    }
   ],
   "source": [
    "pos = np.where(y == 1)[0]\n",
    "neg = np.where(y == 0)[0]\n",
    "\n",
    "bins = 21\n",
    "\n",
    "#plt.hist( p_pred[pos, 1], bins=bins, color='b', label='pos', alpha=0.5)\n",
    "#plt.hist( p_pred[neg, 1], bins=bins, color='r', label='neg', alpha=0.5)\n",
    "\n",
    "sns.distplot( p_pred[pos, 1], bins=bins, norm_hist=True, kde=False, color='b', label='pos')\n",
    "sns.distplot( p_pred[neg, 1], bins=bins, norm_hist=True, kde=False, color='r', label='neg')\n",
    "    \n",
    "plt.legend(loc='best')\n",
    "plt.show()"
   ]
  },
  {
   "cell_type": "markdown",
   "metadata": {},
   "source": [
    "### Applying classification models\n",
    "\n",
    "Diabetes is a serious illness so we should try to improve recall as much as possible taking also into account our resources.\n",
    "\n",
    "We explore the effect on the classification performance of lowering the decision threshold for positives below 0.5."
   ]
  },
  {
   "cell_type": "code",
   "execution_count": 20,
   "metadata": {},
   "outputs": [
    {
     "name": "stdout",
     "output_type": "stream",
     "text": [
      "threshold: 0.5\n",
      "\tconfusion matrix\n",
      " [[419  56]\n",
      " [111 138]]\n",
      "\n",
      "\taccuracy\t0.769\n",
      "\trecall\t\t0.554\n",
      "\tprecision\t0.711\n",
      "\tnum_alertas\t194\n",
      "\n",
      "\n",
      "threshold: 0.4\n",
      "\tconfusion matrix\n",
      " [[389  86]\n",
      " [ 85 164]]\n",
      "\n",
      "\taccuracy\t0.764\n",
      "\trecall\t\t0.659\n",
      "\tprecision\t0.656\n",
      "\tnum_alertas\t250\n",
      "\n",
      "\n",
      "threshold: 0.3\n",
      "\tconfusion matrix\n",
      " [[342 133]\n",
      " [ 60 189]]\n",
      "\n",
      "\taccuracy\t0.733\n",
      "\trecall\t\t0.759\n",
      "\tprecision\t0.587\n",
      "\tnum_alertas\t322\n",
      "\n",
      "\n",
      "threshold: 0.2\n",
      "\tconfusion matrix\n",
      " [[271 204]\n",
      " [ 25 224]]\n",
      "\n",
      "\taccuracy\t0.684\n",
      "\trecall\t\t0.900\n",
      "\tprecision\t0.523\n",
      "\tnum_alertas\t428\n",
      "\n",
      "\n"
     ]
    }
   ],
   "source": [
    "######### threshold analysis\n",
    "\n",
    "l_thresholds = [0.5, 0.4, 0.3, 0.2]\n",
    "\n",
    "for thresh in l_thresholds:\n",
    "    y_pred_thresh = np.zeros( num_patterns ) \n",
    "    pos_thresh = np.where(p_pred[ :, 1] > thresh)[0]\n",
    "    y_pred_thresh[pos_thresh] = 1\n",
    "\n",
    "    print(\"threshold:\", thresh)\n",
    "    print(\"\\tconfusion matrix\\n\", confusion_matrix(y, y_pred_thresh) )\n",
    "    print(\"\\n\\taccuracy\\t%.3f\"   %   accuracy_score(y, y_pred_thresh) )\n",
    "    print(\"\\trecall\\t\\t%.3f\"     %   recall_score(y, y_pred_thresh) )\n",
    "    print(\"\\tprecision\\t%.3f\"    %   precision_score(y, y_pred_thresh) )\n",
    "    print(\"\\tnum_alertas\\t%d\\n\\n\"    %   confusion_matrix(y, y_pred_thresh)[ : , 1 ].sum() )"
   ]
  }
 ],
 "metadata": {
  "kernelspec": {
   "display_name": "Python 3",
   "language": "python",
   "name": "python3"
  },
  "language_info": {
   "codemirror_mode": {
    "name": "ipython",
    "version": 3
   },
   "file_extension": ".py",
   "mimetype": "text/x-python",
   "name": "python",
   "nbconvert_exporter": "python",
   "pygments_lexer": "ipython3",
   "version": "3.6.4"
  }
 },
 "nbformat": 4,
 "nbformat_minor": 1
}
